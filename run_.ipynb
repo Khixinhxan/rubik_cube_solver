{
 "cells": [
  {
   "cell_type": "code",
   "execution_count": 12,
   "metadata": {},
   "outputs": [],
   "source": [
    "import json\n",
    "import os.path"
   ]
  },
  {
   "cell_type": "code",
   "execution_count": 13,
   "metadata": {},
   "outputs": [],
   "source": [
    "from cube import RubiksCube\n",
    "from solver import IDA_star, build_heuristic_db"
   ]
  },
  {
   "cell_type": "code",
   "execution_count": 14,
   "metadata": {},
   "outputs": [],
   "source": [
    "MAX_MOVES = 5\n",
    "NEW_HEURISTICS = False\n",
    "HEURISTIC_FILE = 'heuristic.json'"
   ]
  },
  {
   "cell_type": "code",
   "execution_count": 15,
   "metadata": {},
   "outputs": [],
   "source": [
    "colours_definition = {\n",
    "    'while': 'w',\n",
    "    'orange': 'o',\n",
    "    'green': 'g',\n",
    "    'red': 'r',\n",
    "    'blue': 'b',\n",
    "    'yellow': 'y'\n",
    "}"
   ]
  },
  {
   "cell_type": "code",
   "execution_count": 16,
   "metadata": {},
   "outputs": [
    {
     "name": "stdout",
     "output_type": "stream",
     "text": [
      "                      ['w', 'w', 'w', 'w']\n",
      "                      ['w', 'w', 'w', 'w']\n",
      "                      ['w', 'w', 'w', 'w']\n",
      "                      ['w', 'w', 'w', 'w']\n",
      "\n",
      "['o', 'o', 'o', 'o']  ['g', 'g', 'g', 'g']  ['r', 'r', 'r', 'r']  ['b', 'b', 'b', 'b']\n",
      "['o', 'o', 'o', 'o']  ['g', 'g', 'g', 'g']  ['r', 'r', 'r', 'r']  ['b', 'b', 'b', 'b']\n",
      "['o', 'o', 'o', 'o']  ['g', 'g', 'g', 'g']  ['r', 'r', 'r', 'r']  ['b', 'b', 'b', 'b']\n",
      "['o', 'o', 'o', 'o']  ['g', 'g', 'g', 'g']  ['r', 'r', 'r', 'r']  ['b', 'b', 'b', 'b']\n",
      "\n",
      "                      ['y', 'y', 'y', 'y']\n",
      "                      ['y', 'y', 'y', 'y']\n",
      "                      ['y', 'y', 'y', 'y']\n",
      "                      ['y', 'y', 'y', 'y']\n"
     ]
    }
   ],
   "source": [
    "# Initial Rubiks Cude\n",
    "# -- Default with n, the cells on the face\n",
    "cube = RubiksCube(n=4)\n",
    "cube.show()"
   ]
  },
  {
   "cell_type": "code",
   "execution_count": 18,
   "metadata": {},
   "outputs": [],
   "source": [
    "if os.path.exists(HEURISTIC_FILE):\n",
    "    with open(HEURISTIC_FILE) as f:\n",
    "        h_db = json.load(f)\n",
    "else:\n",
    "    h_db = None"
   ]
  },
  {
   "cell_type": "code",
   "execution_count": 19,
   "metadata": {},
   "outputs": [],
   "source": [
    "if h_db is None or NEW_HEURISTICS is True:\n",
    "    actions = [(r, n, d) for r in ['h', 'v', 's'] for d in [0, 1] for n in range(cube.n)]\n",
    "    h_db = build_heuristic_db(\n",
    "        cube.stringify(),\n",
    "        actions,\n",
    "        max_moves = MAX_MOVES,\n",
    "        heuristic = h_db\n",
    "    )\n",
    "\n",
    "    with open(HEURISTIC_FILE, 'w', encoding='utf-8') as f:\n",
    "        json.dump(\n",
    "            h_db,\n",
    "            f,\n",
    "            ensure_ascii=False,\n",
    "            indent=4\n",
    "        )"
   ]
  },
  {
   "cell_type": "code",
   "execution_count": 20,
   "metadata": {},
   "outputs": [
    {
     "name": "stdout",
     "output_type": "stream",
     "text": [
      "                      ['o', 'w', 'w', 'o']\n",
      "                      ['o', 'w', 'w', 'o']\n",
      "                      ['g', 'g', 'g', 'o']\n",
      "                      ['y', 'y', 'y', 'g']\n",
      "\n",
      "['g', 'g', 'r', 'r']  ['w', 'g', 'g', 'g']  ['o', 'b', 'b', 'b']  ['y', 'o', 'o', 'y']\n",
      "['y', 'o', 'o', 'r']  ['r', 'y', 'y', 'y']  ['w', 'r', 'r', 'w']  ['b', 'b', 'b', 'b']\n",
      "['b', 'o', 'o', 'b']  ['r', 'g', 'g', 'g']  ['w', 'r', 'r', 'g']  ['o', 'w', 'w', 'w']\n",
      "['y', 'o', 'o', 'r']  ['w', 'g', 'g', 'g']  ['o', 'r', 'r', 'w']  ['b', 'b', 'b', 'b']\n",
      "\n",
      "                      ['w', 'w', 'w', 'b']\n",
      "                      ['y', 'y', 'b', 'y']\n",
      "                      ['y', 'y', 'b', 'y']\n",
      "                      ['r', 'r', 'r', 'r']\n"
     ]
    }
   ],
   "source": [
    "cube.shuffle(\n",
    "    l_rot = MAX_MOVES if MAX_MOVES < 5 else 5,\n",
    "    u_rot = MAX_MOVES\n",
    ")\n",
    "cube.show()"
   ]
  },
  {
   "cell_type": "code",
   "execution_count": 21,
   "metadata": {},
   "outputs": [
    {
     "ename": "KeyboardInterrupt",
     "evalue": "",
     "output_type": "error",
     "traceback": [
      "\u001b[0;31m---------------------------------------------------------------------------\u001b[0m",
      "\u001b[0;31mKeyboardInterrupt\u001b[0m                         Traceback (most recent call last)",
      "Cell \u001b[0;32mIn [21], line 2\u001b[0m\n\u001b[1;32m      1\u001b[0m solver \u001b[39m=\u001b[39m IDA_star(h_db)\n\u001b[0;32m----> 2\u001b[0m moves \u001b[39m=\u001b[39m solver\u001b[39m.\u001b[39;49mrun(cube\u001b[39m.\u001b[39;49mstringify())\n\u001b[1;32m      3\u001b[0m \u001b[39mprint\u001b[39m(moves)\n",
      "File \u001b[0;32m~/Desktop/Study/rubik_cube_solver/solver.py:27\u001b[0m, in \u001b[0;36mIDA_star.run\u001b[0;34m(self, state)\u001b[0m\n\u001b[1;32m     21\u001b[0m \u001b[39m\"\"\"\u001b[39;00m\n\u001b[1;32m     22\u001b[0m \u001b[39mInput: state - string representing the current state of the cube\u001b[39;00m\n\u001b[1;32m     23\u001b[0m \u001b[39mDescription: solve the rubix cube\u001b[39;00m\n\u001b[1;32m     24\u001b[0m \u001b[39mOutput: list containing the moves taken to solve the cube\u001b[39;00m\n\u001b[1;32m     25\u001b[0m \u001b[39m\"\"\"\u001b[39;00m\n\u001b[1;32m     26\u001b[0m \u001b[39mwhile\u001b[39;00m \u001b[39mTrue\u001b[39;00m:\n\u001b[0;32m---> 27\u001b[0m     status \u001b[39m=\u001b[39m \u001b[39mself\u001b[39;49m\u001b[39m.\u001b[39;49msearch(state, \u001b[39m1\u001b[39;49m)\n\u001b[1;32m     28\u001b[0m     \u001b[39mif\u001b[39;00m status: \u001b[39mreturn\u001b[39;00m \u001b[39mself\u001b[39m\u001b[39m.\u001b[39mmoves\n\u001b[1;32m     29\u001b[0m     \u001b[39mself\u001b[39m\u001b[39m.\u001b[39mmoves \u001b[39m=\u001b[39m []\n",
      "File \u001b[0;32m~/Desktop/Study/rubik_cube_solver/solver.py:74\u001b[0m, in \u001b[0;36mIDA_star.search\u001b[0;34m(self, state, g_score)\u001b[0m\n\u001b[1;32m     72\u001b[0m     next_action \u001b[39m=\u001b[39m choice(best_action)\n\u001b[1;32m     73\u001b[0m     \u001b[39mself\u001b[39m\u001b[39m.\u001b[39mmoves\u001b[39m.\u001b[39mappend(next_action[\u001b[39m1\u001b[39m])\n\u001b[0;32m---> 74\u001b[0m     status \u001b[39m=\u001b[39m \u001b[39mself\u001b[39;49m\u001b[39m.\u001b[39;49msearch(next_action[\u001b[39m0\u001b[39;49m], g_score \u001b[39m+\u001b[39;49m min_val)\n\u001b[1;32m     75\u001b[0m     \u001b[39mif\u001b[39;00m status: \u001b[39mreturn\u001b[39;00m status\n\u001b[1;32m     76\u001b[0m \u001b[39mreturn\u001b[39;00m \u001b[39mFalse\u001b[39;00m\n",
      "File \u001b[0;32m~/Desktop/Study/rubik_cube_solver/solver.py:74\u001b[0m, in \u001b[0;36mIDA_star.search\u001b[0;34m(self, state, g_score)\u001b[0m\n\u001b[1;32m     72\u001b[0m     next_action \u001b[39m=\u001b[39m choice(best_action)\n\u001b[1;32m     73\u001b[0m     \u001b[39mself\u001b[39m\u001b[39m.\u001b[39mmoves\u001b[39m.\u001b[39mappend(next_action[\u001b[39m1\u001b[39m])\n\u001b[0;32m---> 74\u001b[0m     status \u001b[39m=\u001b[39m \u001b[39mself\u001b[39;49m\u001b[39m.\u001b[39;49msearch(next_action[\u001b[39m0\u001b[39;49m], g_score \u001b[39m+\u001b[39;49m min_val)\n\u001b[1;32m     75\u001b[0m     \u001b[39mif\u001b[39;00m status: \u001b[39mreturn\u001b[39;00m status\n\u001b[1;32m     76\u001b[0m \u001b[39mreturn\u001b[39;00m \u001b[39mFalse\u001b[39;00m\n",
      "    \u001b[0;31m[... skipping similar frames: IDA_star.search at line 74 (2 times)]\u001b[0m\n",
      "File \u001b[0;32m~/Desktop/Study/rubik_cube_solver/solver.py:74\u001b[0m, in \u001b[0;36mIDA_star.search\u001b[0;34m(self, state, g_score)\u001b[0m\n\u001b[1;32m     72\u001b[0m     next_action \u001b[39m=\u001b[39m choice(best_action)\n\u001b[1;32m     73\u001b[0m     \u001b[39mself\u001b[39m\u001b[39m.\u001b[39mmoves\u001b[39m.\u001b[39mappend(next_action[\u001b[39m1\u001b[39m])\n\u001b[0;32m---> 74\u001b[0m     status \u001b[39m=\u001b[39m \u001b[39mself\u001b[39;49m\u001b[39m.\u001b[39;49msearch(next_action[\u001b[39m0\u001b[39;49m], g_score \u001b[39m+\u001b[39;49m min_val)\n\u001b[1;32m     75\u001b[0m     \u001b[39mif\u001b[39;00m status: \u001b[39mreturn\u001b[39;00m status\n\u001b[1;32m     76\u001b[0m \u001b[39mreturn\u001b[39;00m \u001b[39mFalse\u001b[39;00m\n",
      "File \u001b[0;32m~/Desktop/Study/rubik_cube_solver/solver.py:48\u001b[0m, in \u001b[0;36mIDA_star.search\u001b[0;34m(self, state, g_score)\u001b[0m\n\u001b[1;32m     46\u001b[0m best_action \u001b[39m=\u001b[39m \u001b[39mNone\u001b[39;00m\n\u001b[1;32m     47\u001b[0m \u001b[39mfor\u001b[39;00m a \u001b[39min\u001b[39;00m [(r, n, d) \u001b[39mfor\u001b[39;00m r \u001b[39min\u001b[39;00m [\u001b[39m'\u001b[39m\u001b[39mh\u001b[39m\u001b[39m'\u001b[39m, \u001b[39m'\u001b[39m\u001b[39mv\u001b[39m\u001b[39m'\u001b[39m, \u001b[39m'\u001b[39m\u001b[39ms\u001b[39m\u001b[39m'\u001b[39m] \u001b[39mfor\u001b[39;00m d \u001b[39min\u001b[39;00m [\u001b[39m0\u001b[39m, \u001b[39m1\u001b[39m] \u001b[39mfor\u001b[39;00m n \u001b[39min\u001b[39;00m \u001b[39mrange\u001b[39m(cube\u001b[39m.\u001b[39mn)]:\n\u001b[0;32m---> 48\u001b[0m     cube \u001b[39m=\u001b[39m RubiksCube(state\u001b[39m=\u001b[39;49mstate)\n\u001b[1;32m     49\u001b[0m     \u001b[39mif\u001b[39;00m a[\u001b[39m0\u001b[39m] \u001b[39m==\u001b[39m \u001b[39m'\u001b[39m\u001b[39mh\u001b[39m\u001b[39m'\u001b[39m:\n\u001b[1;32m     50\u001b[0m         cube\u001b[39m.\u001b[39mhorizontal_twist(a[\u001b[39m1\u001b[39m], a[\u001b[39m2\u001b[39m])\n",
      "File \u001b[0;32m~/Desktop/Study/rubik_cube_solver/cube.py:32\u001b[0m, in \u001b[0;36mRubiksCube.__init__\u001b[0;34m(self, n, colours, state)\u001b[0m\n\u001b[1;32m     30\u001b[0m \u001b[39mif\u001b[39;00m s \u001b[39mnot\u001b[39;00m \u001b[39min\u001b[39;00m \u001b[39mself\u001b[39m\u001b[39m.\u001b[39mcolours: \u001b[39mself\u001b[39m\u001b[39m.\u001b[39mcolours\u001b[39m.\u001b[39mappend(s)\n\u001b[1;32m     31\u001b[0m \u001b[39mself\u001b[39m\u001b[39m.\u001b[39mcube[\u001b[39m-\u001b[39m\u001b[39m1\u001b[39m][\u001b[39m-\u001b[39m\u001b[39m1\u001b[39m]\u001b[39m.\u001b[39mappend(s)\n\u001b[0;32m---> 32\u001b[0m \u001b[39mif\u001b[39;00m \u001b[39mlen\u001b[39m(\u001b[39mself\u001b[39;49m\u001b[39m.\u001b[39;49mcube[\u001b[39m-\u001b[39;49m\u001b[39m1\u001b[39;49m][\u001b[39m-\u001b[39m\u001b[39m1\u001b[39m]) \u001b[39m==\u001b[39m \u001b[39mself\u001b[39m\u001b[39m.\u001b[39mn \u001b[39mand\u001b[39;00m \u001b[39mlen\u001b[39m(\u001b[39mself\u001b[39m\u001b[39m.\u001b[39mcube[\u001b[39m-\u001b[39m\u001b[39m1\u001b[39m]) \u001b[39m<\u001b[39m \u001b[39mself\u001b[39m\u001b[39m.\u001b[39mn:\n\u001b[1;32m     33\u001b[0m     \u001b[39mself\u001b[39m\u001b[39m.\u001b[39mcube[\u001b[39m-\u001b[39m\u001b[39m1\u001b[39m]\u001b[39m.\u001b[39mappend([])\n\u001b[1;32m     34\u001b[0m \u001b[39melif\u001b[39;00m \u001b[39mlen\u001b[39m(\u001b[39mself\u001b[39m\u001b[39m.\u001b[39mcube[\u001b[39m-\u001b[39m\u001b[39m1\u001b[39m][\u001b[39m-\u001b[39m\u001b[39m1\u001b[39m]) \u001b[39m==\u001b[39m \u001b[39mself\u001b[39m\u001b[39m.\u001b[39mn \u001b[39mand\u001b[39;00m \u001b[39mlen\u001b[39m(\u001b[39mself\u001b[39m\u001b[39m.\u001b[39mcube[\u001b[39m-\u001b[39m\u001b[39m1\u001b[39m]) \u001b[39m==\u001b[39m \u001b[39mself\u001b[39m\u001b[39m.\u001b[39mn \u001b[39mand\u001b[39;00m i \u001b[39m<\u001b[39m \u001b[39mlen\u001b[39m(state) \u001b[39m-\u001b[39m \u001b[39m1\u001b[39m:\n",
      "\u001b[0;31mKeyboardInterrupt\u001b[0m: "
     ]
    }
   ],
   "source": [
    "solver = IDA_star(h_db)\n",
    "moves = solver.run(cube.stringify())\n",
    "print(moves)"
   ]
  },
  {
   "cell_type": "code",
   "execution_count": null,
   "metadata": {},
   "outputs": [],
   "source": [
    "for m in moves:\n",
    "    if m[0] == 'h':\n",
    "        cube.horizontal_twist(m[1], m[2])\n",
    "    elif m[0] == 'v':\n",
    "        cube.vertical_twist(m[1], m[2])\n",
    "    elif m[0] == 's':\n",
    "        cube.side_twist(m[1], m[2])\n",
    "cube.show()\n"
   ]
  }
 ],
 "metadata": {
  "kernelspec": {
   "display_name": "Python 3.9.12 ('rubik_cube_env': venv)",
   "language": "python",
   "name": "python3"
  },
  "language_info": {
   "codemirror_mode": {
    "name": "ipython",
    "version": 3
   },
   "file_extension": ".py",
   "mimetype": "text/x-python",
   "name": "python",
   "nbconvert_exporter": "python",
   "pygments_lexer": "ipython3",
   "version": "3.9.12"
  },
  "orig_nbformat": 4,
  "vscode": {
   "interpreter": {
    "hash": "7041de3544c11d17260e544fa49099a0538c97ef9a660d9d76c5d6166421068b"
   }
  }
 },
 "nbformat": 4,
 "nbformat_minor": 2
}
