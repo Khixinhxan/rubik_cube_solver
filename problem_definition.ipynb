{
 "cells": [
  {
   "cell_type": "markdown",
   "metadata": {},
   "source": [
    "combination_n = ((ca! * cc^(ca-1))*(ea!)*ec^(ea-1))/2"
   ]
  },
  {
   "cell_type": "code",
   "execution_count": 6,
   "metadata": {},
   "outputs": [],
   "source": [
    "import math"
   ]
  },
  {
   "cell_type": "markdown",
   "metadata": {},
   "source": [
    "* ca = corner amount\n",
    "* cc = corner colours\n",
    "* ea = edge amount\n",
    "* ec = edge colours"
   ]
  },
  {
   "cell_type": "code",
   "execution_count": 12,
   "metadata": {},
   "outputs": [],
   "source": [
    "ca = 8\n",
    "cc = 3\n",
    "ea = 12\n",
    "ec = 2"
   ]
  },
  {
   "cell_type": "code",
   "execution_count": 13,
   "metadata": {},
   "outputs": [
    {
     "data": {
      "text/plain": [
       "4.325200327448986e+19"
      ]
     },
     "execution_count": 13,
     "metadata": {},
     "output_type": "execute_result"
    }
   ],
   "source": [
    "(math.factorial(ca) * math.pow(cc,(ca-1)) * math.factorial(ea) * math.pow(ec, (ea-1)))/2"
   ]
  }
 ],
 "metadata": {
  "kernelspec": {
   "display_name": "Python 3.9.12 ('rubik_cube_env': venv)",
   "language": "python",
   "name": "python3"
  },
  "language_info": {
   "codemirror_mode": {
    "name": "ipython",
    "version": 3
   },
   "file_extension": ".py",
   "mimetype": "text/x-python",
   "name": "python",
   "nbconvert_exporter": "python",
   "pygments_lexer": "ipython3",
   "version": "3.9.12"
  },
  "orig_nbformat": 4,
  "vscode": {
   "interpreter": {
    "hash": "7041de3544c11d17260e544fa49099a0538c97ef9a660d9d76c5d6166421068b"
   }
  }
 },
 "nbformat": 4,
 "nbformat_minor": 2
}
